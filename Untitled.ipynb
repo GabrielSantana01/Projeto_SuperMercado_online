{
 "cells": [
  {
   "cell_type": "code",
   "execution_count": 4,
   "id": "ae409544",
   "metadata": {},
   "outputs": [
    {
     "name": "stdout",
     "output_type": "stream",
     "text": [
      "Masculino\n"
     ]
    }
   ],
   "source": [
    "pessoas=[\n",
    "    {'Nome': 'Gabriel', 'Genero': 'Masculino', 'idade':'32', 'peso':'84,56'},\n",
    "    {'Nome': 'Gleice', 'Genero': 'Masculino', 'idade':'32', 'peso':'84,56'},\n",
    "    {'Nome': 'Raua', 'Genero': 'Masculino', 'idade':'32', 'peso':'84,56'},\n",
    "    {'Nome': 'Renna', 'Genero': 'Masculino', 'idade':'32', 'peso':'84,56'},\n",
    "    {'Nome': 'Ayla', 'Genero': 'Masculino', 'idade':'32', 'peso':'84,56'},\n",
    "    {'Nome': 'Pipoca', 'Genero': 'Masculino', 'idade':'32', 'peso':'84,56'}\n",
    "]\n",
    "print(pessoas[0]['Genero'])"
   ]
  },
  {
   "cell_type": "code",
   "execution_count": 1,
   "id": "ad3bd830",
   "metadata": {},
   "outputs": [
    {
     "name": "stdout",
     "output_type": "stream",
     "text": [
      "Ola\n",
      "Mundo\n"
     ]
    }
   ],
   "source": [
    "print('Ola')\n",
    "print('Mundo')"
   ]
  },
  {
   "cell_type": "code",
   "execution_count": null,
   "id": "5d227809",
   "metadata": {},
   "outputs": [],
   "source": []
  },
  {
   "cell_type": "code",
   "execution_count": null,
   "id": "796c2194",
   "metadata": {},
   "outputs": [],
   "source": []
  },
  {
   "cell_type": "code",
   "execution_count": null,
   "id": "8a82812f",
   "metadata": {},
   "outputs": [],
   "source": []
  }
 ],
 "metadata": {
  "kernelspec": {
   "display_name": "ambienteVirtual",
   "language": "python",
   "name": "ambientevirtual"
  },
  "language_info": {
   "codemirror_mode": {
    "name": "ipython",
    "version": 3
   },
   "file_extension": ".py",
   "mimetype": "text/x-python",
   "name": "python",
   "nbconvert_exporter": "python",
   "pygments_lexer": "ipython3",
   "version": "3.10.8"
  }
 },
 "nbformat": 4,
 "nbformat_minor": 5
}
