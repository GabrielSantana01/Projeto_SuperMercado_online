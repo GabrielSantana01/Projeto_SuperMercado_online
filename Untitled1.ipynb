{
 "cells": [
  {
   "cell_type": "code",
   "execution_count": 28,
   "id": "00dcc804",
   "metadata": {},
   "outputs": [
    {
     "name": "stdout",
     "output_type": "stream",
     "text": [
      "gabriel dos santos santana\n",
      "GABRIEL DOS SANTOS SANTANA\n",
      "Gabri\n",
      "GbildsSno atn\n",
      "26\n",
      "G\n",
      "a\n",
      "b\n",
      "r\n",
      "i\n",
      "e\n",
      "l\n",
      " \n",
      "d\n",
      "o\n",
      "s\n",
      " \n",
      "S\n",
      "a\n",
      "n\n",
      "t\n",
      "o\n",
      "s\n",
      " \n",
      "S\n",
      "a\n",
      "n\n",
      "t\n",
      "a\n",
      "n\n",
      "a\n"
     ]
    }
   ],
   "source": [
    "nome = 'Gabriel dos Santos Santana'\n",
    "#letra = input('insira uma letra')\n",
    "nome_minusculo = nome.lower()\n",
    "nome_maiusculo = nome.upper()\n",
    "nome_fatiado1 = nome[0:5]\n",
    "nome_step = nome[0::2]\n",
    "\n",
    "print(nome_minusculo)\n",
    "print(nome_maiusculo)\n",
    "print(nome_fatiado1)\n",
    "print(nome_step)\n",
    "print(len(nome))\n",
    "\n",
    "for i in nome:\n",
    "        print(i)\n",
    "    #if letra == i:\n",
    "        #print(f'a possição da letra desejada é: {nome[i]}')"
   ]
  },
  {
   "cell_type": "code",
   "execution_count": null,
   "id": "b9939845",
   "metadata": {},
   "outputs": [],
   "source": []
  },
  {
   "cell_type": "code",
   "execution_count": null,
   "id": "33323b63",
   "metadata": {},
   "outputs": [],
   "source": []
  },
  {
   "cell_type": "code",
   "execution_count": null,
   "id": "6dedc7f5",
   "metadata": {},
   "outputs": [],
   "source": []
  },
  {
   "cell_type": "code",
   "execution_count": null,
   "id": "17f810ee",
   "metadata": {},
   "outputs": [],
   "source": []
  }
 ],
 "metadata": {
  "kernelspec": {
   "display_name": "ambienteVirtual",
   "language": "python",
   "name": "ambientevirtual"
  },
  "language_info": {
   "codemirror_mode": {
    "name": "ipython",
    "version": 3
   },
   "file_extension": ".py",
   "mimetype": "text/x-python",
   "name": "python",
   "nbconvert_exporter": "python",
   "pygments_lexer": "ipython3",
   "version": "3.10.8"
  }
 },
 "nbformat": 4,
 "nbformat_minor": 5
}
