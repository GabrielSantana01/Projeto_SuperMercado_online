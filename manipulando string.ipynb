{
 "cells": [
  {
   "cell_type": "code",
   "execution_count": 57,
   "id": "041f834e",
   "metadata": {},
   "outputs": [
    {
     "name": "stdout",
     "output_type": "stream",
     "text": [
      "Gabriel dos Santos Santana\n"
     ]
    }
   ],
   "source": [
    "nome = '  Gabriel dos Santos Santana  '\n",
    "#letra = input('insira uma letra')\n",
    "nome_minusculo = nome.lower()\n",
    "nome_maiusculo = nome.upper()\n",
    "nome_fatiado1 = nome[0:5]\n",
    "maxi = len(nome)\n",
    "nome_step = nome[0:maxi:2]\n",
    "nome_count = nome.count('a',0,maxi)\n",
    "nome_find = nome.find('dos')# diz o momento que começou o dos. retorna -1 caso não exista a string na variavel\n",
    "nome_in = 'dos' in nome # retorna false ou true caso exista a string na variavel\n",
    "nome_replace = nome.replace('dos','')\n",
    "nome_capitalize = nome.capitalize()# deixa somente a primeira letra maiuscula\n",
    "nome_title = nome.title() # deixa todo inicio apos o espaço maiusculo\n",
    "nome_strip = nome.strip() # retira os espaços do inicio e do fim. lstrip =retira espaços da esquerda rstrip = da direita\n",
    "nome_split = nome.split() # divisor de string. divite a frase por espaço quando nao tem nada dentro dos cochetes\n",
    "nome_join = ' '.join(nome_split) # junta varias listas em uma so\n",
    "#print(nome_minusculo)\n",
    "#print(nome_maiusculo)\n",
    "#print(nome_fatiado1)\n",
    "#print(nome_step)\n",
    "#print(len(nome))\n",
    "print(nome_join)\n",
    "#for i in nome:\n",
    "#        print(i)\n",
    " \n"
   ]
  },
  {
   "cell_type": "code",
   "execution_count": null,
   "id": "9228044c",
   "metadata": {},
   "outputs": [],
   "source": []
  },
  {
   "cell_type": "code",
   "execution_count": null,
   "id": "93d087cc",
   "metadata": {},
   "outputs": [],
   "source": []
  },
  {
   "cell_type": "code",
   "execution_count": null,
   "id": "3a402852",
   "metadata": {},
   "outputs": [],
   "source": []
  },
  {
   "cell_type": "code",
   "execution_count": null,
   "id": "0b23f2d2",
   "metadata": {},
   "outputs": [],
   "source": []
  }
 ],
 "metadata": {
  "kernelspec": {
   "display_name": "ambienteVirtual",
   "language": "python",
   "name": "ambientevirtual"
  },
  "language_info": {
   "codemirror_mode": {
    "name": "ipython",
    "version": 3
   },
   "file_extension": ".py",
   "mimetype": "text/x-python",
   "name": "python",
   "nbconvert_exporter": "python",
   "pygments_lexer": "ipython3",
   "version": "3.10.8"
  }
 },
 "nbformat": 4,
 "nbformat_minor": 5
}
