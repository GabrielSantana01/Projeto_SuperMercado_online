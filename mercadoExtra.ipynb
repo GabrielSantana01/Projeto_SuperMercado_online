{
  "nbformat": 4,
  "nbformat_minor": 0,
  "metadata": {
    "colab": {
      "provenance": [],
      "authorship_tag": "ABX9TyN85LIAzFUzX4UaMTV9Cpno",
      "include_colab_link": true
    },
    "kernelspec": {
      "name": "python3",
      "display_name": "Python 3"
    },
    "language_info": {
      "name": "python"
    }
  },
  "cells": [
    {
      "cell_type": "markdown",
      "metadata": {
        "id": "view-in-github",
        "colab_type": "text"
      },
      "source": [
        "<a href=\"https://colab.research.google.com/github/GabrielSantana01/Projeto_SuperMercado_online/blob/main/mercadoExtra.ipynb\" target=\"_parent\"><img src=\"https://colab.research.google.com/assets/colab-badge.svg\" alt=\"Open In Colab\"/></a>"
      ]
    },
    {
      "cell_type": "code",
      "source": [
        "import requests\n",
        "from bs4 import BeautifulSoup\n",
        "import pandas as pd\n",
        "import json"
      ],
      "metadata": {
        "id": "85pENoS5aMfe"
      },
      "execution_count": 5,
      "outputs": []
    },
    {
      "cell_type": "code",
      "source": [],
      "metadata": {
        "colab": {
          "base_uri": "https://localhost:8080/"
        },
        "id": "B_QdfqxWa22s",
        "outputId": "965b18b7-178b-44ae-8c93-cfd05b5afeba"
      },
      "execution_count": 6,
      "outputs": [
        {
          "output_type": "stream",
          "name": "stdout",
          "text": [
            "Looking in indexes: https://pypi.org/simple, https://us-python.pkg.dev/colab-wheels/public/simple/\n",
            "Collecting BeautifulSoup\n",
            "  Downloading BeautifulSoup-3.2.2.tar.gz (32 kB)\n",
            "\u001b[33mWARNING: Discarding https://files.pythonhosted.org/packages/40/f2/6c9f2f3e696ee6a1fb0e4d7850617e224ed2b0b1e872110abffeca2a09d4/BeautifulSoup-3.2.2.tar.gz#sha256=a04169602bff6e3138b1259dbbf491f5a27f9499dea9a8fbafd48843f9d89970 (from https://pypi.org/simple/beautifulsoup/). Command errored out with exit status 1: python setup.py egg_info Check the logs for full command output.\u001b[0m\n",
            "  Downloading BeautifulSoup-3.2.1.tar.gz (31 kB)\n",
            "\u001b[33mWARNING: Discarding https://files.pythonhosted.org/packages/1e/ee/295988deca1a5a7accd783d0dfe14524867e31abb05b6c0eeceee49c759d/BeautifulSoup-3.2.1.tar.gz#sha256=6a8cb4401111e011b579c8c52a51cdab970041cc543814bbd9577a4529fe1cdb (from https://pypi.org/simple/beautifulsoup/). Command errored out with exit status 1: python setup.py egg_info Check the logs for full command output.\u001b[0m\n",
            "  Downloading BeautifulSoup-3.2.0.tar.gz (31 kB)\n",
            "\u001b[33mWARNING: Discarding https://files.pythonhosted.org/packages/33/fe/15326560884f20d792d3ffc7fe8f639aab88647c9d46509a240d9bfbb6b1/BeautifulSoup-3.2.0.tar.gz#sha256=0dc52d07516c1665c9dd9f0a390a7a054bfb7b147a50b2866fb116b8909dfd37 (from https://pypi.org/simple/beautifulsoup/). Command errored out with exit status 1: python setup.py egg_info Check the logs for full command output.\u001b[0m\n",
            "\u001b[31mERROR: Could not find a version that satisfies the requirement BeautifulSoup (from versions: 3.2.0, 3.2.1, 3.2.2)\u001b[0m\n",
            "\u001b[31mERROR: No matching distribution found for BeautifulSoup\u001b[0m\n"
          ]
        }
      ]
    },
    {
      "cell_type": "code",
      "execution_count": 111,
      "metadata": {
        "colab": {
          "base_uri": "https://localhost:8080/"
        },
        "id": "o3kfSML7ZxDm",
        "outputId": "5663cdbe-9f2d-4218-d569-4bb0ddd71413"
      },
      "outputs": [
        {
          "output_type": "stream",
          "name": "stdout",
          "text": [
            "Macarrão Italiano Espaghetti Nº 5 BARILLA 500g\n",
            "Café Pilão Torrado E Moído Tradicional Almofada 500g\n",
            "Azeite Português de Oliva Extra Virgem ANDORINHA Vidro 500ml\n",
            "Chocolate Bis ao leite Lacta 126g\n",
            "Arroz Agulhinha Tipo 1 CAMIL Pacote 5kg\n",
            "Azeite de Oliva Extra Virgem Clássico Português Gallo Vidro 500ml\n",
            "Queijo Mussarela PRESIDENT Fatiado 150g\n",
            "Biscoito BAUDUCCO Choco Biscuit Leite 80g\n",
            "Atum Sólido GOMES DA COSTA Lata 120g\n",
            "Nuggets de Frango Crocante SADIA 300g\n",
            "Pão de Queijo Tradicional QUALITÁ Pacote 1kg\n",
            "Caixa de bombom de chocolates Lacta Favoritos 250g\n"
          ]
        }
      ],
      "source": [
        "url = '''https://www.clubeextra.com.br/categoria/alimentos?qt=12&p=0&gt=grid'''\n",
        "headers =  {'User-Agent':\"Mozilla/5.0 (Windows NT 6.1; Win64; x64) AppleWebKit/537.36 \\\n",
        "  (KHTML, like Gecko) Chrome/106.0.0.0 Safari/537.36\"}\n",
        "site = requests.get(url, headers=headers)\n",
        "#print(site.status_code)\n",
        "#print(site.content)\n",
        "soup = BeautifulSoup(site.content, 'html.parser')\n",
        "#list(soup.children)#identifica tabelas no site\n",
        "#print(soup.prettify())\n",
        "#[type(item) for item in list(soup.children)]#identifica os tipos existente na tabala\n",
        "html = list(soup.children)[1]\n",
        "#lista01= list(html.children)\n",
        "body = list(html.children)[1]\n",
        "body02 = list(body.children)[1]\n",
        "pre_json= body02.get_text()\n",
        "body03 = list(body02.children)[0]\n",
        "#body04 = body03.split('')\n",
        "#busca = body03.find('div', id='textstyles__TextComponent-w4b5ef-0 kJrwFu')\n",
        "#body02.get_text(strip=True)\n",
        "import_json = json.loads(pre_json)\n",
        "#print(import_json)\n",
        "vetor_json =import_json['props']\n",
        "vetor_json02 = vetor_json['initialProps']\n",
        "vetor_json03 = vetor_json02['componentProps']\n",
        "vetor_json04 = vetor_json03['categoryContent']\n",
        "vetor_json05 = vetor_json04['products']\n",
        "tamanho2 = len(vetor_json05)\n",
        "lista01 = vetor_json05[0]\n",
        "#print(lista01.keys())\n",
        "#print(lista01.values())\n",
        "i = 0\n",
        "for i in range(tamanho2):\n",
        "  lista02 = vetor_json05[i]\n",
        "  print(lista02['name'])\n",
        "\n",
        "#soup = BeautifulSoup(site.content, 'html.parser').get_text().strip()\n",
        "#qtde_prod = soup.find('div', class_ = 'textstyles__TextComponent-w4b5ef-0 kJrwFu')"
      ]
    },
    {
      "cell_type": "code",
      "source": [],
      "metadata": {
        "id": "qXnHZG6Z1kLw"
      },
      "execution_count": 97,
      "outputs": []
    }
  ]
}