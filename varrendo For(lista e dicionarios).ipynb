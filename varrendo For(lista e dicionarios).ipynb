{
 "cells": [
  {
   "cell_type": "code",
   "execution_count": 8,
   "id": "ae409544",
   "metadata": {},
   "outputs": [
    {
     "name": "stdout",
     "output_type": "stream",
     "text": [
      "pessoa1\n",
      "\tNome , Gabriel\n",
      "\tGenero , Masculino\n",
      "\tidade , 32\n",
      "\tpeso , 84,56\n",
      "pessoa2\n",
      "\tNome , Gleice\n",
      "\tGenero , Masculino\n",
      "\tidade , 32\n",
      "\tpeso , 84,56\n",
      "pessoa3\n",
      "\tNome , Raua\n",
      "\tGenero , Masculino\n",
      "\tidade , 32\n",
      "\tpeso , 84,56\n",
      "pessoa4\n",
      "\tNome , Renna\n",
      "\tGenero , Masculino\n",
      "\tidade , 32\n",
      "\tpeso , 84,56\n",
      "pessoa5\n",
      "\tNome , Ayla\n",
      "\tGenero , Masculino\n",
      "\tidade , 32\n",
      "\tpeso , 84,56\n",
      "pessoa6\n",
      "\tNome , Pipoca\n",
      "\tGenero , Masculino\n",
      "\tidade , 32\n",
      "\tpeso , 84,56\n"
     ]
    }
   ],
   "source": [
    "pessoas={\n",
    "    'pessoa1':{'Nome': 'Gabriel', 'Genero': 'Masculino', 'idade':'32', 'peso':'84,56'},\n",
    "    'pessoa2':{'Nome': 'Gleice', 'Genero': 'Masculino', 'idade':'32', 'peso':'84,56'},\n",
    "    'pessoa3':{'Nome': 'Raua', 'Genero': 'Masculino', 'idade':'32', 'peso':'84,56'},\n",
    "    'pessoa4':{'Nome': 'Renna', 'Genero': 'Masculino', 'idade':'32', 'peso':'84,56'},\n",
    "    'pessoa5':{'Nome': 'Ayla', 'Genero': 'Masculino', 'idade':'32', 'peso':'84,56'},\n",
    "    'pessoa6':{'Nome': 'Pipoca', 'Genero': 'Masculino', 'idade':'32', 'peso':'84,56'}\n",
    "}\n",
    "\n",
    "for k , i in pessoas.items():\n",
    "    print(k)\n",
    "    for a, b in i.items():\n",
    "       print(f'\\t{a} , {b}')\n",
    "\n",
    "\n",
    "\n"
   ]
  },
  {
   "cell_type": "code",
   "execution_count": 31,
   "id": "ad3bd830",
   "metadata": {},
   "outputs": [
    {
     "name": "stdout",
     "output_type": "stream",
     "text": [
      "['Masculino', '32', '84,56']\n"
     ]
    }
   ],
   "source": [
    "teste={\n",
    "    'Gabriel':['Masculino','32','84,56'],\n",
    "    'Gleice':['Feminino','33','55,00'],\n",
    "    'Raua':['Masculino','14','40,35'],\n",
    "    'Renna':['Masculino','11','42,87'],\n",
    "    'Ayla':['Feminino','3','84,56'],\n",
    "    'Pipoca':['Masculino','1','2,50']\n",
    "}\n",
    "\n",
    "#print(teste.values())\n",
    "for k, v in teste.items():\n",
    "    if k == 'Gabriel':\n",
    "        print(v)\n",
    "    "
   ]
  },
  {
   "cell_type": "code",
   "execution_count": 30,
   "id": "5d227809",
   "metadata": {},
   "outputs": [
    {
     "name": "stdout",
     "output_type": "stream",
     "text": [
      "['Gabriel', 'ayla', 'raua']\n",
      "['Gabriel', 'ayla', 'raua']\n",
      "None\n"
     ]
    }
   ],
   "source": [
    "lista = ['Gabriel','raua','ayla']\n",
    "\n",
    "copia = lista\n",
    "copia2 =copia.sort()\n",
    "print(lista)\n",
    "print(copia)\n",
    "print(copia2)"
   ]
  },
  {
   "cell_type": "code",
   "execution_count": 27,
   "id": "796c2194",
   "metadata": {},
   "outputs": [
    {
     "name": "stdout",
     "output_type": "stream",
     "text": [
      "1 maça\n",
      "2 banana\n",
      "3 manga\n",
      "4 melancia\n"
     ]
    }
   ],
   "source": [
    "frutas = ['maça', 'banana', 'manga', 'melancia']\n",
    "\n",
    "for indice, valor in enumerate(frutas):\n",
    "    print(indice+1, valor)"
   ]
  },
  {
   "cell_type": "code",
   "execution_count": null,
   "id": "8a82812f",
   "metadata": {},
   "outputs": [],
   "source": []
  },
  {
   "cell_type": "code",
   "execution_count": null,
   "id": "178bb094",
   "metadata": {},
   "outputs": [],
   "source": []
  }
 ],
 "metadata": {
  "kernelspec": {
   "display_name": "ambienteVirtual",
   "language": "python",
   "name": "ambientevirtual"
  },
  "language_info": {
   "codemirror_mode": {
    "name": "ipython",
    "version": 3
   },
   "file_extension": ".py",
   "mimetype": "text/x-python",
   "name": "python",
   "nbconvert_exporter": "python",
   "pygments_lexer": "ipython3",
   "version": "3.10.8"
  }
 },
 "nbformat": 4,
 "nbformat_minor": 5
}
